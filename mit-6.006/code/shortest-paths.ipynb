{
 "cells": [
  {
   "cell_type": "markdown",
   "id": "9d248078",
   "metadata": {},
   "source": [
    "# DAG Relaxation\n",
    "\n",
    "Get single source shortest paths for graphs that are DAGs\n",
    "\n",
    "O(V + E)"
   ]
  },
  {
   "cell_type": "code",
   "execution_count": 2,
   "id": "1dc03be8",
   "metadata": {},
   "outputs": [],
   "source": [
    "# Dummy graph that is a DAG(no cycles)\n",
    "graph = {\n",
    "    0: [(1, 5), (2, 3)],\n",
    "    1: [(3, 6), (2, 2)],\n",
    "    2: [(4, 4), (5, 2), (3, 7)],\n",
    "    3: [(4, -10)],\n",
    "    4: [(5, -2)],\n",
    "    5: []\n",
    "}"
   ]
  },
  {
   "cell_type": "code",
   "execution_count": 3,
   "id": "6fd49104",
   "metadata": {},
   "outputs": [],
   "source": [
    "# DFS using stack for topological order\n",
    "def dfs_order(graph,start_node):\n",
    "    stk = []\n",
    "    visited = []\n",
    "    order = []\n",
    "    stk.append(start_node)\n",
    "    while stk:\n",
    "        current_node = stk[-1]\n",
    "        visited.append(current_node)\n",
    "        count = 0\n",
    "        for adjacent_node in graph[current_node]:\n",
    "            if adjacent_node[0] not in visited:\n",
    "                stk.append(adjacent_node[0])\n",
    "                count += 1\n",
    "                break   # Another approach you can also append all the adjacent nodes after adding the current node with a processed flag back to the stack first.\n",
    "        if count == 0:\n",
    "            order.append(stk.pop())\n",
    "    # print(order)\n",
    "    order.reverse()\n",
    "    return order"
   ]
  },
  {
   "cell_type": "code",
   "execution_count": 4,
   "id": "cd1c5c33",
   "metadata": {},
   "outputs": [
    {
     "name": "stdout",
     "output_type": "stream",
     "text": [
      "1 5\n",
      "2 3\n",
      "3 6\n",
      "2 2\n",
      "4 4\n",
      "5 2\n",
      "3 7\n",
      "4 -10\n",
      "5 -2\n",
      "[0, 5, 3, 10, 0, -2] {0: 0, 1: 0, 2: 0, 3: 2, 4: 3, 5: 4}\n"
     ]
    }
   ],
   "source": [
    "def dag_relaxation(graph,start_node):\n",
    "    order = dfs_order(graph,start_node)\n",
    "    dist = [float('inf') for node in graph.keys()]\n",
    "    dist[start_node] = 0\n",
    "    parent = {}\n",
    "    parent[start_node] = start_node\n",
    "    for node in order:\n",
    "        for adjacent_node, weight in graph[node]:\n",
    "            print(adjacent_node,weight)\n",
    "            if dist[adjacent_node] > dist[node] + weight: # relax edge if true\n",
    "                dist[adjacent_node] = dist[node] + weight\n",
    "                parent[adjacent_node] = node\n",
    "    return dist, parent\n",
    "    \n",
    "\n",
    "            \n",
    "dist,parent = dag_relaxation(graph,0)\n",
    "print(dist,parent)\n"
   ]
  },
  {
   "cell_type": "code",
   "execution_count": 5,
   "id": "94f17825",
   "metadata": {},
   "outputs": [
    {
     "name": "stdout",
     "output_type": "stream",
     "text": [
      "1 5\n",
      "2 3\n",
      "3 6\n",
      "2 2\n",
      "4 4\n",
      "5 2\n",
      "3 7\n",
      "4 -10\n",
      "5 -2\n"
     ]
    }
   ],
   "source": [
    "dist,parent = dag_relaxation(graph,0)"
   ]
  },
  {
   "cell_type": "markdown",
   "id": "0825933b",
   "metadata": {},
   "source": [
    "# Bellman-Ford\n",
    "\n",
    "Solves SSSP's in O(|V||E|) time and space"
   ]
  },
  {
   "cell_type": "code",
   "execution_count": 6,
   "id": "7b1790c1",
   "metadata": {},
   "outputs": [],
   "source": [
    "graph = {\n",
    "    0: [(1, 6), (2, 7)],\n",
    "    1: [(2, 8), (3, 5), (4, -4)],\n",
    "    2: [(3, -3), (4, 9)],\n",
    "    3: [(1, -2)],\n",
    "    4: [(0, 2), (3, 7)],\n",
    "}\n"
   ]
  },
  {
   "cell_type": "code",
   "execution_count": 7,
   "id": "fc9ee0e7",
   "metadata": {},
   "outputs": [],
   "source": [
    "def bellman_ford(graph,start_node):\n",
    "    d = [float('inf') for node in graph]\n",
    "    parent = [None for node in graph]\n",
    "    d[start_node],parent[start_node] = 0, start_node\n",
    "    v = len(graph) # Total number of nodes\n",
    "    for i in range(v-1):\n",
    "        for node in graph:\n",
    "            for adjacent_node,weight in graph[node]:\n",
    "                if d[adjacent_node]> d[node] + weight:\n",
    "                    d[adjacent_node] = d[node] + weight\n",
    "                    parent[adjacent_node] = node\n",
    "    # check for negative weight cycle on vth iteration\n",
    "    for node in graph:\n",
    "        for adjacent_node,weight in graph[node]:\n",
    "            if d[adjacent_node] > d[node] + weight:\n",
    "                raise Exception('Negative weight cycle found')\n",
    "    return d"
   ]
  },
  {
   "cell_type": "code",
   "execution_count": 8,
   "id": "e9e50b25",
   "metadata": {},
   "outputs": [
    {
     "name": "stdout",
     "output_type": "stream",
     "text": [
      "[0, 2, 7, 4, -2]\n"
     ]
    }
   ],
   "source": [
    "print(bellman_ford(graph, 0))"
   ]
  },
  {
   "cell_type": "markdown",
   "id": "ab71a6cd",
   "metadata": {},
   "source": [
    "# Dijkstra\n",
    "Only for graphs with non negative weight\n",
    "O(|V| + |E|)"
   ]
  },
  {
   "cell_type": "code",
   "execution_count": 2,
   "id": "1fa4372c",
   "metadata": {},
   "outputs": [],
   "source": [
    "graph = {\n",
    "    0: [(1, 4), (2, 1)],\n",
    "    1: [(3, 1)],\n",
    "    2: [(1, 2), (3, 5)],\n",
    "    3: [(4, 3), (5, 2)],\n",
    "    4: [(5, 1)],\n",
    "    5: []\n",
    "}\n"
   ]
  },
  {
   "cell_type": "code",
   "execution_count": 4,
   "id": "d681ea3e",
   "metadata": {},
   "outputs": [
    {
     "name": "stdout",
     "output_type": "stream",
     "text": [
      "[0, 3, 1, 4, 7, 6]\n"
     ]
    }
   ],
   "source": [
    "import heapq\n",
    "\n",
    "\n",
    "def dijkstra(graph,start_node):\n",
    "    h = [(float('inf'),node) for node in graph] #heap priority queue\n",
    "    d = [float('inf') for node in graph]\n",
    "    h[start_node] = (0,start_node) # set start node distance\n",
    "    heapq.heapify(h)\n",
    "    while h:\n",
    "        min_dist,node = heapq.heappop(h)\n",
    "        d[node] = min_dist\n",
    "        for adjacent_node,weight in graph[node]:\n",
    "            # get the index of the adjacent node in heap\n",
    "            for i in range(len(h)):\n",
    "                if h[i][1] == adjacent_node:\n",
    "                    adjacent_node_distance = h[i][0]\n",
    "                    if adjacent_node_distance > d[node] + weight:\n",
    "                    # Update the priority queue heap\n",
    "                        h[i] = (d[node] + weight,adjacent_node)\n",
    "        heapq.heapify(h)\n",
    "    return d\n",
    "\n",
    "\n",
    "print(dijkstra(graph,0))\n"
   ]
  },
  {
   "cell_type": "code",
   "execution_count": 11,
   "id": "9967582a",
   "metadata": {},
   "outputs": [
    {
     "name": "stdout",
     "output_type": "stream",
     "text": [
      "[0, 3, 1, 4, 7, 6]\n"
     ]
    }
   ],
   "source": [
    "print(dijkstra(graph,0))"
   ]
  },
  {
   "cell_type": "code",
   "execution_count": null,
   "id": "7aaf14f4",
   "metadata": {},
   "outputs": [],
   "source": []
  }
 ],
 "metadata": {
  "kernelspec": {
   "display_name": "3.12.11",
   "language": "python",
   "name": "python3"
  },
  "language_info": {
   "codemirror_mode": {
    "name": "ipython",
    "version": 3
   },
   "file_extension": ".py",
   "mimetype": "text/x-python",
   "name": "python",
   "nbconvert_exporter": "python",
   "pygments_lexer": "ipython3",
   "version": "3.12.11"
  }
 },
 "nbformat": 4,
 "nbformat_minor": 5
}
